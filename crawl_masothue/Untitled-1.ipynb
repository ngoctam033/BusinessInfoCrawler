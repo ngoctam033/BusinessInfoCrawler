{
 "cells": [
  {
   "cell_type": "code",
   "execution_count": 1,
   "metadata": {},
   "outputs": [],
   "source": [
    "# sử dụng selenium để crawl mã số thuế từ trang https://masothue.com/\n",
    "# sử dụng multiprocessing để crawl nhanh hơn\n",
    "from selenium import webdriver\n",
    "import time\n",
    "# sử dụng firefox\n",
    "from selenium.webdriver.firefox.options import Options\n",
    "\n",
    "# Cấu hình tùy chọn cho Firefox\n",
    "firefox_options = Options()\n",
    "# firefox_options.add_argument('--headless')  # Chạy Firefox ở chế độ không có giao diện\n",
    "firefox_options.add_argument('--no-sandbox')  # Cần thiết khi chạy trong Docker\n",
    "firefox_options.add_argument('--disable-dev-shm-usage')  # Giảm thiểu vấn đề về bộ nhớ\n",
    "# Khởi tạo trình duyệt Firefox với các tùy chọn đã cấu hình\n",
    "driver = webdriver.Firefox(options=firefox_options)"
   ]
  },
  {
   "cell_type": "code",
   "execution_count": 2,
   "metadata": {},
   "outputs": [],
   "source": [
    "# mở link sau: https://masothue.com/tra-cuu-ma-so-thue-theo-tinh/ho-chi-minh-23?page=i\n",
    "driver.get(f'https://masothue.com/tra-cuu-ma-so-thue-theo-tinh/ho-chi-minh-23?page=1')"
   ]
  },
  {
   "cell_type": "code",
   "execution_count": null,
   "metadata": {},
   "outputs": [],
   "source": [
    "# tìm thẻ div class = 'tax-listing', sử dụng By.CLASS_NAME, tìm các thẻ div có class là 'tax-listing'\n",
    "from selenium.webdriver.common.by import By\n",
    "# tìm thẻ div class = 'tax-listing'\n",
    "tax_list_div = driver.find_element(By.CLASS_NAME, 'tax-listing')"
   ]
  },
  {
   "cell_type": "code",
   "execution_count": 6,
   "metadata": {},
   "outputs": [
    {
     "name": "stdout",
     "output_type": "stream",
     "text": [
      "https://masothue.com/4202005819-001-chi-nhanh-cong-ty-tnhh-yen-sao-daonest-tai-tp-ho-chi-minh\n",
      "https://masothue.com/0310559408-001-chi-nhanh-cong-ty-trach-nhiem-huu-han-mot-thanh-vien-dich-vu-quang-cao-hoa-sen\n",
      "https://masothue.com/0318547436-001-cong-ty-tnhh-tmdv-fahunu-chi-nhanh-dai-cat\n",
      "https://masothue.com/0318547436-005-cong-ty-tnhh-tmdv-fahunu-chi-nhanh-tam-phuc\n",
      "https://masothue.com/0318547436-004-cong-ty-tnhh-tmdv-fahunu-chi-nhanh-phat-dat\n",
      "https://masothue.com/0318547436-002-cong-ty-tnhh-tmdv-fahunu-chi-nhanh-loc-phat\n",
      "https://masothue.com/0317457187-001-van-phong-dai-dien-cong-ty-tnhh-xd-tk-ttnt-quang-thuan\n",
      "https://masothue.com/0521880000-cong-ty-tnhh-dien-tu-samsung-vina\n",
      "https://masothue.com/0309590643-015-van-phong-dai-dien-ho-chi-minh-cong-ty-tnhh-royal-distribution\n",
      "https://masothue.com/2200806898-001-van-phong-dai-dien-cong-ty-tnhh-xay-dung-vlxd-tan-tien\n",
      "https://masothue.com/0402099239-001-van-phong-dai-dien-tai-thanh-pho-ho-chi-minh-cong-ty-tnhh-thuong-mai-miga-viet-nam\n",
      "https://masothue.com/3603210193-001-van-phong-dai-dien-cong-ty-tnhh-greenata\n",
      "https://masothue.com/0302735138-001-cua-hang-hiep-luc\n",
      "https://masothue.com/0311469651-001-chi-nhanh-cong-ty-tnhh-fornix-kho-chua-hang\n",
      "https://masothue.com/0318635844-001-chi-nhanh-cong-ty-tnhh-solincoto\n",
      "https://masothue.com/1801531903-001-van-phong-dai-dien-cong-ty-tnhh-mot-thanh-vien-xay-xat-hoang-giao\n",
      "https://masothue.com/0305713894-001-chi-nhanh-cong-ty-tnhh-hoa-chat-phuc-khang\n",
      "https://masothue.com/0317421751-001-chi-nhanh-cong-ty-tnhh-nha-khoa-kim-trung-nha-khoa-an-duong-vuong\n",
      "https://masothue.com/0317304783-001-chi-nhanh-cong-ty-tnhh-thuong-mai-san-xuat-minh-thanh-i\n",
      "https://masothue.com/0317294341-001-chi-nhanh-cong-ty-tnhh-vlife-travel\n",
      "https://masothue.com/0314564399-001-chi-nhanh-cong-ty-co-phan-thuong-mai-thang-the-kho-hang\n",
      "https://masothue.com/0314573523-001-van-phong-dai-dien-cong-ty-tnhh-dich-vu-your\n",
      "https://masothue.com/0318465832-001-cong-ty-tnhh-tu-van-kien-truc-va-xay-dung-trung-kien-chi-nhanh-01\n",
      "https://masothue.com/0870990014-cong-ty-tnhh-dien-tu-samsung-vina\n",
      "https://masothue.com/0318204319-002-chi-nhanh-cong-ty-tnhh-dich-vu-ccv\n"
     ]
    }
   ],
   "source": [
    "# lấy các thẻ div con cấp 1 của thẻ div tax_list_div\n",
    "tax_list = tax_list_div.find_elements(By.CSS_SELECTOR, ':scope > div')\n",
    "# duyệt qua các thẻ div con\n",
    "for tax in tax_list:\n",
    "    # lấy thuộc tính href của thẻ a\n",
    "    a = tax.find_element(By.TAG_NAME, 'a')\n",
    "    print(a.get_attribute('href'))"
   ]
  },
  {
   "cell_type": "code",
   "execution_count": null,
   "metadata": {},
   "outputs": [],
   "source": []
  }
 ],
 "metadata": {
  "kernelspec": {
   "display_name": "Python 3",
   "language": "python",
   "name": "python3"
  },
  "language_info": {
   "codemirror_mode": {
    "name": "ipython",
    "version": 3
   },
   "file_extension": ".py",
   "mimetype": "text/x-python",
   "name": "python",
   "nbconvert_exporter": "python",
   "pygments_lexer": "ipython3",
   "version": "3.12.5"
  }
 },
 "nbformat": 4,
 "nbformat_minor": 2
}
